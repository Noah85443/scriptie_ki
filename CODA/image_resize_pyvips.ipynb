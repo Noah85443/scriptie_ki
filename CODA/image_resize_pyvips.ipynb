{
 "cells": [
  {
   "cell_type": "code",
   "execution_count": 1,
   "id": "8cc09816-23ef-43bd-9c49-3f0f52246f98",
   "metadata": {},
   "outputs": [],
   "source": [
    "import os\n",
    "vipsbin = r\"c:\\vips-dev-8.15\\bin\"\n",
    "os.environ['PATH'] = vipsbin + ';' + os.environ['PATH']"
   ]
  },
  {
   "cell_type": "code",
   "execution_count": 2,
   "id": "23fc5a0f-213e-483b-9e92-f87c0576ac45",
   "metadata": {},
   "outputs": [],
   "source": [
    "import pyvips\n",
    "from tqdm.notebook import tqdm_notebook\n",
    "import time"
   ]
  },
  {
   "cell_type": "code",
   "execution_count": 3,
   "id": "cb38be4b-de29-421b-bc11-1f99df8af5a0",
   "metadata": {},
   "outputs": [],
   "source": [
    "images_path = \"data/66-4\""
   ]
  },
  {
   "cell_type": "code",
   "execution_count": 5,
   "id": "ec709ed2-96c5-44d0-850a-0fe74e441c97",
   "metadata": {},
   "outputs": [],
   "source": [
    "def create_folder(folder_path):\n",
    "    if not os.path.exists(folder_path):\n",
    "        os.makedirs(folder_path)\n",
    "        print(f\"Folder '{folder_path}' created successfully.\")\n",
    "    else:\n",
    "        print(f\"Folder '{folder_path}' already exists.\")"
   ]
  },
  {
   "cell_type": "code",
   "execution_count": 8,
   "id": "65bffdad-75fd-4407-9ba1-57b105ed14a6",
   "metadata": {},
   "outputs": [],
   "source": [
    "def resize_qptiff_files(path, target_size):\n",
    "    files = os.listdir(path)[:-1]\n",
    "    create_folder(os.path.join(path, 'processed_images'))\n",
    "    for i, file in tqdm_notebook(enumerate(files)):\n",
    "        output = 'test' + str(i) + '.tif'\n",
    "        print(i, file)\n",
    "        thumb = pyvips.Image.thumbnail(os.path.join(path, file), target_size)\n",
    "        # Insert image path and desired size of the resulting image (need to do more research if different than squared is possible)\n",
    "        print(f\"Saving {output} into {os.path.join(path, 'processed_images', output)}\")\n",
    "        thumb.write_to_file(os.path.join(path, 'processed_images', output))\n",
    "        "
   ]
  },
  {
   "cell_type": "code",
   "execution_count": 9,
   "id": "5bfef2af-1edf-4b1c-bff1-c4e13abfbaf3",
   "metadata": {},
   "outputs": [
    {
     "name": "stdout",
     "output_type": "stream",
     "text": [
      "Folder 'data/66-4\\processed_images' already exists.\n"
     ]
    },
    {
     "data": {
      "application/vnd.jupyter.widget-view+json": {
       "model_id": "fc0f680f98614b37b7cf71a9e0f83822",
       "version_major": 2,
       "version_minor": 0
      },
      "text/plain": [
       "0it [00:00, ?it/s]"
      ]
     },
     "metadata": {},
     "output_type": "display_data"
    },
    {
     "name": "stdout",
     "output_type": "stream",
     "text": [
      "0 H21-066.1_HE331_0017_Scan1.qptiff\n",
      "Saving test0.tif into data/66-4\\processed_images\\test0.tif\n",
      "1 H21-066.1_HE331_0021_Scan1.qptiff\n",
      "Saving test1.tif into data/66-4\\processed_images\\test1.tif\n",
      "2 H21-066.4_HE332_001_Scan1.qptiff\n",
      "Saving test2.tif into data/66-4\\processed_images\\test2.tif\n",
      "3 H21-066.4_HE332_005_Scan1.qptiff\n",
      "Saving test3.tif into data/66-4\\processed_images\\test3.tif\n",
      "4 H21-066.4_HE332_009_Scan1.qptiff\n",
      "Saving test4.tif into data/66-4\\processed_images\\test4.tif\n",
      "5 H21-066.4_HE332_013_Scan1.qptiff\n",
      "Saving test5.tif into data/66-4\\processed_images\\test5.tif\n"
     ]
    }
   ],
   "source": [
    "resize_qptiff_files(images_path, 2048)"
   ]
  },
  {
   "cell_type": "code",
   "execution_count": null,
   "id": "c65703c5-9902-402b-b610-c932de0b85db",
   "metadata": {},
   "outputs": [],
   "source": []
  }
 ],
 "metadata": {
  "kernelspec": {
   "display_name": "Python 3 (ipykernel)",
   "language": "python",
   "name": "python3"
  },
  "language_info": {
   "codemirror_mode": {
    "name": "ipython",
    "version": 3
   },
   "file_extension": ".py",
   "mimetype": "text/x-python",
   "name": "python",
   "nbconvert_exporter": "python",
   "pygments_lexer": "ipython3",
   "version": "3.10.13"
  }
 },
 "nbformat": 4,
 "nbformat_minor": 5
}
